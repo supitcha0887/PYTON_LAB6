{
  "nbformat": 4,
  "nbformat_minor": 0,
  "metadata": {
    "colab": {
      "provenance": [],
      "include_colab_link": true
    },
    "kernelspec": {
      "name": "python3",
      "display_name": "Python 3"
    },
    "language_info": {
      "name": "python"
    }
  },
  "cells": [
    {
      "cell_type": "markdown",
      "metadata": {
        "id": "view-in-github",
        "colab_type": "text"
      },
      "source": [
        "<a href=\"https://colab.research.google.com/github/supitcha0887/PYTON_LAB6/blob/main/Lab6.ipynb\" target=\"_parent\"><img src=\"https://colab.research.google.com/assets/colab-badge.svg\" alt=\"Open In Colab\"/></a>"
      ]
    },
    {
      "cell_type": "markdown",
      "source": [
        "Ex. 6.1 ให้เขียนฟังก์ชันชื่อ test_ pangram เพื่อตรวจสอบว่า String ที่รับเข้ามาเป็น pangram หรือไม่ โดย pangram คือ string ที่ประกอบด้วยตัวอักษรทุกตัวในภาษาอังกฤษ (ต้องมีอักษรแต่ละตัวปรากฏอย่างน้อย 1 ครั้ง) เช่น\n",
        "The quick brown fox jumps over the lazy dog\n",
        "รับข้อมูลเป็น string และ return เป็น True หรือ False"
      ],
      "metadata": {
        "id": "g1jKRrPZdrD9"
      }
    },
    {
      "cell_type": "code",
      "execution_count": null,
      "metadata": {
        "colab": {
          "base_uri": "https://localhost:8080/"
        },
        "id": "oc_mt8z2dluv",
        "outputId": "20ec0d39-9a3c-45a3-ff27-40574915d6d8"
      },
      "outputs": [
        {
          "output_type": "stream",
          "name": "stdout",
          "text": [
            "True\n",
            "False\n"
          ]
        }
      ],
      "source": [
        "def test_pangram(str):\n",
        "  str = str.lower()\n",
        "  letters = set(c for c in str if c.isalpha())\n",
        "  return len(letters) == 26\n",
        "\n",
        "print(test_pangram(\"The quick brown fox jumps over the lazy dog\"))  # ควร return True\n",
        "print(test_pangram(\"Hello, World!\"))  # ควร return False\n",
        "\n",
        "\n"
      ]
    },
    {
      "cell_type": "markdown",
      "source": [
        "Ex 6.2 จงเขียน โปรแกรมที่รวมผลลัพธ์ ของตัวเลขที่อยู่ใน List โดยกำหนดให้ฟังก์ชัน ชื่อ find_sum(n_list,n) โดย n_list เป็น List ของตัวเลขที่มีความยาว n โดยให้เขียนในแบบ Recursion\n"
      ],
      "metadata": {
        "id": "jsFdK2rreKku"
      }
    },
    {
      "cell_type": "code",
      "source": [
        "def find_sum(n_list,n):\n",
        "  if n == 0:\n",
        "      return 0\n",
        "  return find_sum(n_list, n - 1) + n_list[n - 1]\n",
        "\n",
        "print(find_sum([1,2,3,4,5,6,7,8,9,10], 10))  # ควร return 55\n",
        "\n"
      ],
      "metadata": {
        "id": "SWhMgyAc0uSI",
        "outputId": "902559a0-b9c4-48c5-83ae-68ef947d20fc",
        "colab": {
          "base_uri": "https://localhost:8080/"
        }
      },
      "execution_count": null,
      "outputs": [
        {
          "output_type": "stream",
          "name": "stdout",
          "text": [
            "55\n"
          ]
        }
      ]
    },
    {
      "cell_type": "markdown",
      "source": [
        "Ex 6.3 กำหนดให้ List x เก็บ String และตัวแปร c เก็บตัวอักษร\n",
        "ให้สร้าง List d ที่เก็บจำนวนครั้งที่ตัวอักษรใน c ปรากฏในแต่ละ String ของ List x โดยใช้ List comprehension\n",
        "\n",
        "- เช่น x = [‘abba’, ‘babana’, ‘ann’]; c = ‘a’\n",
        "- จะได้ d = [2, 3, 1]\n",
        "\n",
        "ให้เขียนในฟังก์ชัน count_char_in_string(x,c) แล้ว return เป็น List คำตอบ"
      ],
      "metadata": {
        "id": "S9FRT-zz05-A"
      }
    },
    {
      "cell_type": "code",
      "source": [
        "def count_char_in_string(x,c):\n",
        "  return [s.count(c) for s in x]\n",
        "\n",
        "x = ['abba', 'babana', 'ann']\n",
        "c = 'a'\n",
        "\n",
        "\n",
        "print(count_char_in_string(['abba', 'babana', 'ann'],'a'))\n",
        "print(count_char_in_string(['apple', 'banana', 'cherry'],'a'))\n",
        "print(count_char_in_string(['dog', 'cat', 'fish'],'z'))\n",
        "print(count_char_in_string(['abc', 'bcb', 'cab'],'b'))\n",
        "print(count_char_in_string(['', 'a', ''],'a'))\n",
        "print(count_char_in_string(['@home', '#hash', 'space '],'#'))"
      ],
      "metadata": {
        "id": "yQZQFVa01JPs",
        "outputId": "1fd882d7-af5a-42ca-91e4-b93bf81a25e2",
        "colab": {
          "base_uri": "https://localhost:8080/"
        }
      },
      "execution_count": null,
      "outputs": [
        {
          "output_type": "stream",
          "name": "stdout",
          "text": [
            "[2, 3, 1]\n",
            "[1, 3, 0]\n",
            "[0, 0, 0]\n",
            "[1, 2, 1]\n",
            "[0, 1, 0]\n",
            "[0, 1, 0]\n"
          ]
        }
      ]
    },
    {
      "cell_type": "markdown",
      "source": [
        "Ex 6.4  กำหนดให้ List x เป็น List ของจำนวนเต็ม\n",
        "ให้เขียนโปรแกรมเพื่อลบจำนวนเต็มทุกตัวใน x ที่มีค่าเป็นลบ โดยใช้ List comprehension\n",
        "\n",
        "- เช่น x = [ [1, -3, 2], [-8, 5], [-1, -4, -3] ]\n",
        "- ได้คำตอบเป็น [ [1, 2], [5], [] ]\n",
        "\n",
        "ให้เขียนในฟังก์ชัน delete_minus(x) แล้ว return เป็น List คำตอบ\n",
        "Hint : ถ้าคิดไม่ออกให้ทดลองเขียนแบบปกติก่อน แล้วค่อยลดรูป\n"
      ],
      "metadata": {
        "id": "vRtEJLkP5MLT"
      }
    },
    {
      "cell_type": "code",
      "source": [
        "def delete_minus(x):\n",
        "  return [[num for num in sublist if num >= 0] for sublist in x]\n",
        "\n",
        "print(delete_minus([[1, -3, 2], [-8, 5], [-1, -4, -3]]))\n",
        "print(delete_minus([[0, -1, -2], [3, 4, -5], [-6, 7]]))\n",
        "print(delete_minus([[10, -10, 20], [-30, 30], [40, -40]]))\n",
        "print(delete_minus([[1, 2, 3], [4, 5], [6]]))\n",
        "print(delete_minus([[-1, -2, -3], [-4, -5], [-6]]))\n",
        "print(delete_minus([[-10, -20, -30], [-40, -50], [-60]]))"
      ],
      "metadata": {
        "id": "SDA5CALo5WPK",
        "outputId": "36e8cf07-dcc2-471c-a456-d673ceeae0ac",
        "colab": {
          "base_uri": "https://localhost:8080/"
        }
      },
      "execution_count": null,
      "outputs": [
        {
          "output_type": "stream",
          "name": "stdout",
          "text": [
            "[[1, 2], [5], []]\n",
            "[[0], [3, 4], [7]]\n",
            "[[10, 20], [30], [40]]\n",
            "[[1, 2, 3], [4, 5], [6]]\n",
            "[[], [], []]\n",
            "[[], [], []]\n"
          ]
        }
      ]
    },
    {
      "cell_type": "markdown",
      "source": [
        "Ex 6.5 ให้เขียนโปรแกรมเพื่อรับข้อมูล 1 บรรทัด ที่ประกอบด้วยจำนวนเต็มหลายจำนวน (คั่นด้วยช่องว่าง)\n",
        "ให้ส่งคืนว่ามีจำนวนที่เป็นลบกี่จำนวน โดยใช้ List comprehension\n",
        "ให้เขียนในฟังก์ชัน count_minus(str) แล้ว return เป็นคำตอบ"
      ],
      "metadata": {
        "id": "nLUpu-7v6MCa"
      }
    },
    {
      "cell_type": "code",
      "source": [
        "def count_minus(str):\n",
        "  numbers = [int(num) for num in str.split()]\n",
        "  negative_numbers = [num for num in numbers if num < 0]\n",
        "  return len(negative_numbers)\n",
        "\n",
        "print(count_minus(\"1 2 -3 4 -5\"))\n",
        "print(count_minus(\"-1 -2 -3 -4 -5\"))\n",
        "print(count_minus(\"1 2 3 4 5\"))\n",
        "print(count_minus(\"0 0 0 0 0\"))\n",
        "print(count_minus(\"-10 -20 -30 -40 -50\"))"
      ],
      "metadata": {
        "id": "BO0JESLu9cVj",
        "outputId": "aae15d7e-686b-4736-c426-08eaba8e052d",
        "colab": {
          "base_uri": "https://localhost:8080/"
        }
      },
      "execution_count": null,
      "outputs": [
        {
          "output_type": "stream",
          "name": "stdout",
          "text": [
            "2\n",
            "5\n",
            "0\n",
            "0\n",
            "5\n"
          ]
        }
      ]
    },
    {
      "cell_type": "markdown",
      "source": [
        "Ex 6.6 ให้เขียนโปรแกรมเพื่อรับ string 1 ตัว\n",
        "ให้ส่งคืนเฉพาะตัวอักษรที่เป็นภาษาอังกฤษ โดยใช้ List comprehension\n",
        "ให้เขียนในฟังก์ชัน only_english(string1) แล้ว return เป็นคำตอบเป็น string"
      ],
      "metadata": {
        "id": "18YUhkQ96Fiw"
      }
    },
    {
      "cell_type": "code",
      "source": [
        "def only_english(string1):\n",
        "  english_letters = [char for char in string1 if char.isalpha()]\n",
        "  return ' '.join(english_letters)\n",
        "\n",
        "print(only_english(\"Hello, World!\"))\n",
        "print(only_english(\"This is a test.\"))\n",
        "print(only_english(\"12345\"))\n",
        "print(only_english(\"abcABC123\"))\n",
        "print(only_english(\"!@#$%^&*()\"))"
      ],
      "metadata": {
        "id": "QM_Vbz-k9shU",
        "outputId": "1b57e7c1-43af-4235-d5af-836010d03ac2",
        "colab": {
          "base_uri": "https://localhost:8080/"
        }
      },
      "execution_count": null,
      "outputs": [
        {
          "output_type": "stream",
          "name": "stdout",
          "text": [
            "H e l l o W o r l d\n",
            "T h i s i s a t e s t\n",
            "\n",
            "a b c A B C\n",
            "\n"
          ]
        }
      ]
    },
    {
      "cell_type": "markdown",
      "source": [
        "Ex 6.7 กำหนดให้ list x และ y เป็น list ของจำนวนเต็ม โดยมีขนาดเท่ากัน\n",
        "ให้ return list ที่เป็นผลบวกของ list x และ y โดยใช้ list comprehension\n",
        "เขียนให้ function ชื่อ add2list(lst1,lst2)\n",
        "\n",
        "\n"
      ],
      "metadata": {
        "id": "S5dKtu4o96b-"
      }
    },
    {
      "cell_type": "code",
      "source": [
        "def add2list(lst1,lst2):\n",
        "  if len(lst1) != len(lst2):\n",
        "    raise ValueError(\"Both lists must have the same length.\")\n",
        "  return [x + y for x, y in zip(lst1, lst2)]\n",
        "\n",
        "print(add2list([1, 2, 3], [4, 5, 6]))\n",
        "print(add2list([-1, -2, -3], [1, 2, 3]))\n",
        "print(add2list([0, 0, 0], [10, 20, 30]))\n",
        "print(add2list([7, 8, 9], [3, 2, 1]))\n",
        "print(add2list([100, 200, 300], [400, 500, 600]))\n",
        "print(add2list([1, 2, 3, 4, 5], [6, 7, 8, 9, 10]))\n"
      ],
      "metadata": {
        "id": "L18pzqF5-AtR",
        "outputId": "e3a4cb9a-d623-4fd0-b7d6-d78714bfc778",
        "colab": {
          "base_uri": "https://localhost:8080/"
        }
      },
      "execution_count": null,
      "outputs": [
        {
          "output_type": "stream",
          "name": "stdout",
          "text": [
            "[5, 7, 9]\n",
            "[0, 0, 0]\n",
            "[10, 20, 30]\n",
            "[10, 10, 10]\n",
            "[500, 700, 900]\n",
            "[7, 9, 11, 13, 15]\n"
          ]
        }
      ]
    },
    {
      "cell_type": "code",
      "source": [
        "def flatten_list(lst):\n",
        "  return [item for sublist in lst for item in sublist]\n",
        "\n",
        "print(flatten_list([[1, 2, 3], [4, 5, 6]]))\n",
        "print(flatten_list([[7, 8], [9, 10], [11, 12]]))\n",
        "print(flatten_list([[0], [1], [2], [3]]))\n",
        "print(flatten_list([[1, 1, 1], [2, 2], [3]]))\n",
        "print(flatten_list([[5, 6, 7], [8], [9, 10]]))\n"
      ],
      "metadata": {
        "id": "nfKGEY7d--zX",
        "outputId": "a0002c5a-2ab4-405c-b1b1-48190fd4806e",
        "colab": {
          "base_uri": "https://localhost:8080/"
        }
      },
      "execution_count": null,
      "outputs": [
        {
          "output_type": "stream",
          "name": "stdout",
          "text": [
            "[1, 2, 3, 4, 5, 6]\n",
            "[7, 8, 9, 10, 11, 12]\n",
            "[0, 1, 2, 3]\n",
            "[1, 1, 1, 2, 2, 3]\n",
            "[5, 6, 7, 8, 9, 10]\n"
          ]
        }
      ]
    },
    {
      "cell_type": "markdown",
      "source": [
        "2.\tกำหนดให้ s เป็น list ของ Integer ให้เขียนโปรแกรม ตัดตัวเลขที่ซ้ำกันใน list ให้เหลือเพียงตัวเลขเดียว โดยใช้ list comprehension (ห้ามใช้ set) โดยมีขั้นตอนดังนี้\n",
        "-\tเรียงลำดับข้อมูลใน list\n",
        "-\tสร้าง list ใหม่ โดยนำข้อมูลใน list ตัวที่ติดกันมาพิจารณาจากซ้ายไปขวา หากค่าไม่เท่ากันให้นำไปใส่ใน list ใหม่\n",
        "-\tนำตัวขวาสุด (ตัวสุดท้าย) เพิ่มเข้าไปใน list ใหม่ ก็จะได้ s ที่ไม่มีตัวซ้ำ\n",
        "-\tโดยให้เขียนเป็นฟังก์ชัน ชื่อ remove_duplicate(s)\n",
        "\n",
        "- Input : [1, 2, 3, 3, 4, 5, 6]\n",
        "- Output : [1, 2, 3, 4, 5, 6]\n",
        "\n",
        "ห้ามใช้ sort"
      ],
      "metadata": {
        "id": "_FXeyEnm_y8X"
      }
    },
    {
      "cell_type": "code",
      "source": [
        "def sort_function(s):\n",
        "  for i in range(len(s)):\n",
        "    for j in range(i+1,len(s)):\n",
        "      if s[i] > s[j]:\n",
        "        s[i],s[j] =s[j],s[i]\n",
        "  return s\n",
        "def remove_duplicate(s):\n",
        "  s = sort_function(s)\n",
        "  ans = []\n",
        "  newlist = [ans.append(i) for i in s if i not in ans]\n",
        "  return ans\n",
        "\n",
        "print(remove_duplicate([1, 2, 3, 3, 4, 5, 6])) #=> [1, 2, 3, 4, 5, 6]\n",
        "print(remove_duplicate([5, 1, 3, 3, 2, 5, 1])) #=> [1, 2, 3, 5]\n",
        "print(remove_duplicate([7, 7, 8, 8, 8, 9])) #=> [7, 8, 9]\n",
        "print(remove_duplicate([10, 10, 10, 10])) #=> [10]\n",
        "print(remove_duplicate([1, 2, 2, 3, 4, 4, 4, 5])) #=> [1, 2, 3, 4, 5]"
      ],
      "metadata": {
        "id": "iH8ceRWJ_5wq",
        "outputId": "3d8a6a30-cd02-4103-f88e-579f5135d72a",
        "colab": {
          "base_uri": "https://localhost:8080/"
        }
      },
      "execution_count": null,
      "outputs": [
        {
          "output_type": "stream",
          "name": "stdout",
          "text": [
            "[1, 2, 3, 4, 5, 6]\n",
            "[1, 2, 3, 5]\n",
            "[7, 8, 9]\n",
            "[10]\n",
            "[1, 2, 3, 4, 5]\n"
          ]
        }
      ]
    },
    {
      "cell_type": "markdown",
      "source": [
        "3.\tกำหนดให้มี 2 list คือ lst1 และ lst2 ให้ค้นหาสมาชิกที่มีในทั้ง 2 list โดยใช้ list comprehension\n",
        "(ห้ามใช้ set) โดยให้เขียนเป็นฟังก์ชันชื่อ common_member(lst1, lst2) โดย return เป็น list ที่มีสมาชิกทั้ง 2 list\n",
        "- Input : lst1 = [1, 2, 4, 5, 6] lst2 = [2, 3, 4]\n",
        "- Output : [2, 4]\n"
      ],
      "metadata": {
        "id": "f9smt54DAyYU"
      }
    },
    {
      "cell_type": "code",
      "source": [
        "def common_member(lst1, lst2):\n",
        "  return [item for item in lst1 if item in lst2]\n",
        "print(common_member([1, 2, 4, 5, 6], [2, 3, 4]))\n",
        "print(common_member([1, 2, 3, 4, 5], [6, 7, 8]))\n",
        "print(common_member([1, 2, 3, 4, 5], [1, 2, 3, 4, 5]))\n",
        "print(common_member([1, 2, 3, 4, 5], [5, 4, 3, 2, 1]))\n",
        "print(common_member([1, 2, 3, 4, 5], [6, 7, 8, 9, 10]))\n"
      ],
      "metadata": {
        "id": "3K2MCpiWA-tX",
        "outputId": "eb3b26e8-83e5-4fe0-c62c-9ecca16bcb0e",
        "colab": {
          "base_uri": "https://localhost:8080/"
        }
      },
      "execution_count": null,
      "outputs": [
        {
          "output_type": "stream",
          "name": "stdout",
          "text": [
            "[2, 4]\n",
            "[]\n",
            "[1, 2, 3, 4, 5]\n",
            "[1, 2, 3, 4, 5]\n",
            "[]\n"
          ]
        }
      ]
    },
    {
      "cell_type": "markdown",
      "source": [
        "4.\tกำหนดให้ s เป็น String ให้เขียนโปรแกรมโดยใช้ List comprehension โดยให้ตัดตัวอักษรภาษาอังกฤษที่เป็นสระ a, e, i, o, u ออกจากประโยคให้หมด เช่น\n",
        "\n",
        "- Input : “common_member” จะได้ Output เป็น “cmmn mmbr”\n",
        "\n"
      ],
      "metadata": {
        "id": "V71CdsnEBWu8"
      }
    },
    {
      "cell_type": "code",
      "source": [
        "def remove_vowels(s):\n",
        "  vowels = 'aeiou'\n",
        "  filtered_chars = [char for char in s if char.lower() not in vowels]\n",
        "  return ' '.join(filtered_chars)\n",
        "\n",
        "print(remove_vowels(\"common_member\"))\n",
        "print(remove_vowels(\"hello world\"))\n",
        "print(remove_vowels(\"aeiou\"))\n",
        "print(remove_vowels(\"qwertyuiop\"))\n",
        "print(remove_vowels(\"abcdefghijklmnopqrstuvwxyz\"))"
      ],
      "metadata": {
        "id": "UNjxlDMqBcSz",
        "outputId": "db2930f1-5030-4580-ee93-aaf8ff74e22f",
        "colab": {
          "base_uri": "https://localhost:8080/"
        }
      },
      "execution_count": null,
      "outputs": [
        {
          "output_type": "stream",
          "name": "stdout",
          "text": [
            "c m m n _ m m b r\n",
            "h l l   w r l d\n",
            "\n",
            "q w r t y p\n",
            "b c d f g h j k l m n p q r s t v w x y z\n"
          ]
        }
      ]
    },
    {
      "cell_type": "code",
      "source": [
        "def remove_last_element(lst):\n",
        "  if len(lst) < 2:\n",
        "    raise ValueError(\"The list must contain at least two elements.\")\n",
        "  last_element = lst[-1]\n",
        "  new_list = [item - last_element for item in lst[:-1]]\n",
        "  return new_list\n",
        "\n",
        "\n",
        "print(remove_last_element([1, 10, 2, -5]))\n",
        "print(remove_last_element([100, 0, -1]))\n",
        "print(remove_last_element([3, -3]))\n",
        "\n"
      ],
      "metadata": {
        "id": "cSSMJX5fBi8-",
        "outputId": "a3dfc5a0-fe93-4e4e-850d-fb76f0d2935f",
        "colab": {
          "base_uri": "https://localhost:8080/"
        }
      },
      "execution_count": null,
      "outputs": [
        {
          "output_type": "stream",
          "name": "stdout",
          "text": [
            "[6, 15, 7]\n",
            "[101, 1]\n",
            "[6]\n"
          ]
        }
      ]
    },
    {
      "cell_type": "markdown",
      "source": [
        "6.\tกำหนดให้ s เป็น String ให้เขียนโปรแกรมเพื่อหา คำ ที่มีความยาวน้อยกว่า 5 ตัวอักษร โดยใช้ list comprehension\n",
        "- Input : “A total of 16 playable characters!”\n",
        "- Output : “A total of 16”\n",
        "\n"
      ],
      "metadata": {
        "id": "kguZ7w78CP0W"
      }
    },
    {
      "cell_type": "code",
      "source": [
        "def find_short_words(s):\n",
        "  words = s.split()\n",
        "  ans = [words[i] for i in range(len(words)) if len(words[i]) < 5]\n",
        "\n",
        "  return ' '.join(ans)\n",
        "\n",
        "\n",
        "print(find_short_words(\"A total of 16 playable characters!\")) # => \"A total of 16\"\n",
        "print(find_short_words(\"The quick brown fox jumps over the lazy dog\")) #=> \"The fox over the dog\"\n",
        "print(find_short_words(\"Python is a great programming language\")) # => \"is a\"\n",
        "print(find_short_words(\"Short words are kept short and long words are ignored\")) # \"are kept and are\"\n"
      ],
      "metadata": {
        "id": "IN6wcH_WCVJv",
        "outputId": "e0cd6420-9d3b-458b-f562-11b8d74edbe2",
        "colab": {
          "base_uri": "https://localhost:8080/"
        }
      },
      "execution_count": null,
      "outputs": [
        {
          "output_type": "stream",
          "name": "stdout",
          "text": [
            "A of 16\n",
            "The fox over the lazy dog\n",
            "is a\n",
            "are kept and long are\n"
          ]
        }
      ]
    },
    {
      "cell_type": "markdown",
      "source": [
        "7.\tให้เขียนโปรแกรมเพื่อคำนวณหา rank ของรหัสนักศึกษาที่กำหนด โดยให้เรียงตามคะแนน โดย rank = 1 คือ มีคะแนนสูงสุด โดยใช้ list comprehension\n",
        "กำหนดให้มีข้อมูล s_score มีตัวอย่างดังนี้\n",
        "\n",
        "s_score = [\t[‘65015001’, 87.25],\n",
        "\t\t[‘65015002’, 77.00],\n",
        "\t\t[‘65015003’, 82.50],\n",
        "\t\t[‘65015004’, 69.75],\n",
        "\t\t[‘65015005’, 66.00]  ]\n",
        "    \n",
        "ให้เขียนฟังก์ชัน find_rank( s_score, stu_id ) โดย s_score เป็น list ของคะแนน และ std_id เป็นรหัสนักศึกษาที่ต้องการหา rank\n",
        "เช่น find_rank ( s_score, ‘65015004’) จะ return 4 เพราะมีคะแนนเป็นอันดับ 4\n"
      ],
      "metadata": {
        "id": "yioC3udBDK3M"
      }
    },
    {
      "cell_type": "code",
      "source": [
        "def find_rank(s_score, stu_id):\n",
        "  sorted_scores = sorted(s_score, key=lambda x: x[1], reverse=True)\n",
        "  rank = next((index + 1 for index, student in enumerate(sorted_scores) if student[0] == stu_id), None)\n",
        "  return rank\n",
        "\n",
        "\n",
        "# ทดสอบฟังก์ชัน\n",
        "s_score = [['65015001', 87.25], ['65015002', 77.00], ['65015003', 82.50], ['65015004', 69.75], ['65015005', 66.00]]\n",
        "print(find_rank(s_score, '65015004'))  # ควร return 4\n",
        "\n",
        "\n",
        "s_score = [['65015001', 87.25], ['65015002', 77.00], ['65015003', 82.50], ['65015004', 69.75], ['65015005', 66.00]]\n",
        "print(find_rank(s_score, '65015004'))  # Output: 4\n",
        "\n",
        "# Test Case 2\n",
        "s_score = [['65015001', 90.00], ['65015002', 80.00], ['65015003', 85.00], ['65015004', 70.00], ['65015005', 60.00]]\n",
        "print(find_rank(s_score, '65015002'))  # Output: 2\n",
        "\n",
        "# Test Case 3\n",
        "s_score = [['65015001', 95.00], ['65015002', 95.00], ['65015003', 90.00], ['65015004', 85.00], ['65015005', 80.00]]\n",
        "print(find_rank(s_score, '65015001'))  # Output: 1\n",
        "\n",
        "# Test Case 4\n",
        "s_score = [['65015001', 50.00], ['65015002', 60.00], ['65015003', 70.00], ['65015004', 80.00], ['65015005', 90.00]]\n",
        "print(find_rank(s_score, '65015005'))  # Output: 1\n",
        "\n",
        "# Test Case 5\n",
        "s_score = [['65015001', 55.00], ['65015002', 65.00], ['65015003', 75.00], ['65015004', 85.00], ['65015005', 95.00]]\n",
        "print(find_rank(s_score, '65015003'))  # Output: 3\n",
        "\n"
      ],
      "metadata": {
        "id": "72EkAIBjDTO_",
        "outputId": "f8d686ec-bf98-460e-d8e6-9a740e8256ee",
        "colab": {
          "base_uri": "https://localhost:8080/"
        }
      },
      "execution_count": 38,
      "outputs": [
        {
          "output_type": "stream",
          "name": "stdout",
          "text": [
            "4\n",
            "4\n",
            "3\n",
            "1\n",
            "1\n",
            "3\n"
          ]
        }
      ]
    },
    {
      "cell_type": "markdown",
      "source": [
        "8.\tให้เขียนโปรแกรม เพื่อหาข้อมูลที่มีความถี่มากกว่าครึ่งหนึ่งของจำนวนข้อมูลที่รับเข้ามา แต่ถ้าไม่พบให้แสดง Not found โดยใช้ list comprehension\n",
        "\n",
        "- เช่น \t[4, 5, 5, 10] ได้ผลลัพธ์เป็น Not found\n",
        "-\t[4, 5, 5] ได้ผลลัพธ์เป็น 5\n",
        "-\t[10, 5, 5, 3, 5] ได้ผลลัพธ์เป็น 5\n",
        "-\t[2, 4, 2, 4, 2, 4] ได้ผลลัพธ์เป็น Not found\n",
        "\n",
        "ให้เขียนเป็นฟังก์ชัน ชื่อ more_than_half(n_list) โดย n_list เป็นข้อมูลนำเข้า และ return เป็นผลลัพธ์ หรือ Not found\n"
      ],
      "metadata": {
        "id": "oJGkdpmfEH2e"
      }
    },
    {
      "cell_type": "code",
      "source": [
        "def more_than_half(n_list):\n",
        "  total_count = len(n_list)\n",
        "\n",
        "  freq_items = [(item, n_list.count(item)) for item in set(n_list)]\n",
        "\n",
        "  result = [item for item, count in freq_items if count > total_count / 2]\n",
        "\n",
        "  return result[0] if result else \"Not found\"\n",
        "\n",
        "print(more_than_half([4, 5, 5, 10]))\n",
        "print(more_than_half([4, 5, 5]))\n",
        "print(more_than_half([10, 5, 5, 3, 5]))\n",
        "print(more_than_half([2, 4, 2, 4, 2, 4]))\n"
      ],
      "metadata": {
        "id": "ahXL6sfbEQUQ",
        "outputId": "ab5adbf6-bbcb-42a1-dc5b-c39cc3a590bf",
        "colab": {
          "base_uri": "https://localhost:8080/"
        }
      },
      "execution_count": null,
      "outputs": [
        {
          "output_type": "stream",
          "name": "stdout",
          "text": [
            "Not found\n",
            "5\n",
            "5\n",
            "Not found\n"
          ]
        }
      ]
    },
    {
      "cell_type": "markdown",
      "source": [
        "9.\tจงเขียนโปรแกรมในแบบ recursion เพื่อกลับ String เช่น\n",
        "- Input : 'desserts'\n",
        "- Output : 'stressed'\n"
      ],
      "metadata": {
        "id": "0oTFJs2PEkL5"
      }
    },
    {
      "cell_type": "code",
      "source": [
        "def reverse_string(s):\n",
        "    if len(s) <= 1:\n",
        "        return s\n",
        "    return reverse_string(s[1:]) + s[0]\n",
        "\n",
        "print(reverse_string('desserts'))  # ควร return 'stressed'\n",
        "print(reverse_string('hello'))     # ควร return 'olleh'\n",
        "print(reverse_string('Python'))    # ควร return 'nohtyP'\n"
      ],
      "metadata": {
        "id": "_h5KwR9WEo7e",
        "outputId": "414b1874-002a-4dbc-8be1-97a70190c821",
        "colab": {
          "base_uri": "https://localhost:8080/"
        }
      },
      "execution_count": null,
      "outputs": [
        {
          "output_type": "stream",
          "name": "stdout",
          "text": [
            "stressed\n",
            "olleh\n",
            "nohtyP\n"
          ]
        }
      ]
    }
  ]
}